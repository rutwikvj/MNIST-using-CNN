{
 "cells": [
  {
   "cell_type": "markdown",
   "metadata": {},
   "source": [
    "# Building a CNN Model for The MNIST Dataset\n",
    "###### By: Rutwik V Jangam\n",
    "- The MNIST dataset is a handwritten digit dataset. We will now proceed to build a CNN Model that recognises the handwritten digits and classifies them into one on the 10 digits starting from 0 to 9."
   ]
  },
  {
   "cell_type": "markdown",
   "metadata": {},
   "source": [
    "## Importing Libraries and the Dataset\n",
    "- We now import all the required libraries and import the MNIST dataset which is present in the Keras Package itself."
   ]
  },
  {
   "cell_type": "code",
   "execution_count": 1,
   "metadata": {},
   "outputs": [],
   "source": [
    "from tensorflow import keras\n",
    "from keras.datasets import mnist\n",
    "import matplotlib.pyplot as plt\n",
    "from keras.models import Sequential\n",
    "from keras.layers import Dense, Dropout, Flatten\n",
    "from keras.layers import Conv2D, MaxPooling2D\n",
    "from keras import backend as K\n",
    "from tensorflow.keras.layers import BatchNormalization\n",
    "from tensorflow.keras.models import load_model\n",
    "import numpy as np"
   ]
  },
  {
   "cell_type": "markdown",
   "metadata": {},
   "source": [
    "- We know load the dataset into train and test sets"
   ]
  },
  {
   "cell_type": "code",
   "execution_count": 2,
   "metadata": {},
   "outputs": [],
   "source": [
    "(x_train, y_train), (x_test, y_test) = mnist.load_data()"
   ]
  },
  {
   "cell_type": "markdown",
   "metadata": {},
   "source": [
    "- We check for the shape of the train and test data for our verification."
   ]
  },
  {
   "cell_type": "code",
   "execution_count": 3,
   "metadata": {},
   "outputs": [
    {
     "name": "stdout",
     "output_type": "stream",
     "text": [
      "train data\n",
      "(60000, 28, 28)\n",
      "(60000,)\n",
      "\n",
      " test data\n",
      "(10000, 28, 28)\n",
      "(10000,)\n"
     ]
    }
   ],
   "source": [
    "print(\"train data\")\n",
    "print(x_train.shape)\n",
    "print(y_train.shape)\n",
    "print(\"\\n test data\")\n",
    "print(x_test.shape)\n",
    "print(y_test.shape)"
   ]
  },
  {
   "cell_type": "markdown",
   "metadata": {},
   "source": [
    "- We have 60,000 training and 10,000 test images each of size 28 x 28. These images are grayscale and hence stored as 2 dimensional arrays.\n",
    "- Let us now check for a sample image from the x_train dataset and also check the coressponding label in y_train."
   ]
  },
  {
   "cell_type": "code",
   "execution_count": 4,
   "metadata": {},
   "outputs": [
    {
     "data": {
      "text/plain": [
       "<matplotlib.image.AxesImage at 0x24dc342fdc8>"
      ]
     },
     "execution_count": 4,
     "metadata": {},
     "output_type": "execute_result"
    },
    {
     "data": {
      "image/png": "[encoded data removed]",
      "text/plain": [
       "<Figure size 432x288 with 1 Axes>"
      ]
     },
     "metadata": {
      "needs_background": "light"
     },
     "output_type": "display_data"
    }
   ],
   "source": [
    "index  = 3456\n",
    "k = x_train[index,:]\n",
    "k = k.reshape((28, 28))\n",
    "plt.title('The Label is {label}'.format(label= y_train[index]))\n",
    "plt.imshow(k, cmap='binary')"
   ]
  },
  {
   "cell_type": "markdown",
   "metadata": {},
   "source": [
    "- We can see that the image appears to be 1 and the corresponding label confirms the same as well."
   ]
  },
  {
   "cell_type": "markdown",
   "metadata": {},
   "source": [
    "## Data Preparation\n",
    "- We now proceed to prepare the data for feeding the network.\n",
    "- The three main steps involved in this preperation are: <br>\n",
    "<tab>1. Reshaping the Data<br>\n",
    "<tab>2. Rescaling the Data<br>\n",
    "<tab>3. Converting the Input Data from int to float\n",
    "<br>\n",
    "<br>\n",
    "- We first specify few variables such as image size(rows and columns) and also the batch size, number of classes to be classified and the epochs"
   ]
  },
  {
   "cell_type": "code",
   "execution_count": 5,
   "metadata": {},
   "outputs": [],
   "source": [
    "# specify input dimensions of each image\n",
    "img_rows, img_cols = 28, 28\n",
    "input_shape = (img_rows, img_cols, 1)\n",
    "\n",
    "# batch size, number of classes, epochs\n",
    "batch_size = 128\n",
    "num_classes = 10\n",
    "epochs = 12"
   ]
  },
  {
   "cell_type": "markdown",
   "metadata": {},
   "source": [
    "###### Reshaping the Data\n",
    "- We will need to reshape the input data as we would want them to have a single colour channel since the images are grayscale.\n",
    "- This is applicable for the x_train and x_test datasets."
   ]
  },
  {
   "cell_type": "code",
   "execution_count": 6,
   "metadata": {},
   "outputs": [
    {
     "name": "stdout",
     "output_type": "stream",
     "text": [
      "(60000, 28, 28, 1)\n",
      "(10000, 28, 28, 1)\n"
     ]
    }
   ],
   "source": [
    "x_train = x_train.reshape(x_train.shape[0], img_rows, img_cols, 1)\n",
    "x_test = x_test.reshape(x_test.shape[0], img_rows, img_cols, 1)\n",
    "print(x_train.shape)\n",
    "print(x_test.shape)"
   ]
  },
  {
   "cell_type": "markdown",
   "metadata": {},
   "source": [
    "- Similarly the y_trains and y_test data needs to converted from class lables into one-hot encoded vectors"
   ]
  },
  {
   "cell_type": "code",
   "execution_count": 7,
   "metadata": {},
   "outputs": [
    {
     "name": "stdout",
     "output_type": "stream",
     "text": [
      "(60000, 10)\n"
     ]
    }
   ],
   "source": [
    "y_train = keras.utils.to_categorical(y_train, num_classes)\n",
    "y_test = keras.utils.to_categorical(y_test, num_classes)\n",
    "print(y_train.shape)"
   ]
  },
  {
   "cell_type": "markdown",
   "metadata": {},
   "source": [
    "###### Rescaling and Converting the Input Data from int to float\n",
    "- We first convert the data from int to float since it is advisable to use float in Neural Networks.\n",
    "- We then normalise and rescale the pixel value by dividing the value by 255 so that the range becomes 0 to 1."
   ]
  },
  {
   "cell_type": "code",
   "execution_count": 8,
   "metadata": {},
   "outputs": [],
   "source": [
    "# convert int to float\n",
    "x_train = x_train.astype('float32')\n",
    "x_test = x_test.astype('float32')\n",
    "\n",
    "# normalise\n",
    "x_train /= 255\n",
    "x_test /= 255"
   ]
  },
  {
   "cell_type": "markdown",
   "metadata": {},
   "source": [
    "## Developing a Baseline Model\n",
    "We first go ahead to build a simple shallow model to predict handwritten images.<br>\n",
    "We instantiate a Sequential model and keep adding layers.<br>\n",
    "<br>\n",
    "The Baseline model will consist of:\n",
    "- One Convolutional layer having 32 filters with a filter size of (3,3)\n",
    "- followed by a maxpooling layer\n",
    "- and then flatten the output of the pooling layer to give us a long vector\n",
    "- We then add a fully connected dense layer with 128 neurons\n",
    "- The last layer is the softmax layer with 10 neurons\n",
    "\n",
    "All the layers other than the last layer will be using the ReLU activation function. <br>\n",
    "We would also use a dropout layer to regularize our model and stop it from overfitting."
   ]
  },
  {
   "cell_type": "code",
   "execution_count": 9,
   "metadata": {},
   "outputs": [
    {
     "name": "stdout",
     "output_type": "stream",
     "text": [
      "Model: \"sequential\"\n",
      "_________________________________________________________________\n",
      " Layer (type)                Output Shape              Param #   \n",
      "=================================================================\n",
      " conv2d (Conv2D)             (None, 26, 26, 32)        320       \n",
      "                                                                 \n",
      " max_pooling2d (MaxPooling2D  (None, 13, 13, 32)       0         \n",
      " )                                                               \n",
      "                                                                 \n",
      " dropout (Dropout)           (None, 13, 13, 32)        0         \n",
      "                                                                 \n",
      " flatten (Flatten)           (None, 5408)              0         \n",
      "                                                                 \n",
      " dense (Dense)               (None, 128)               692352    \n",
      "                                                                 \n",
      " dropout_1 (Dropout)         (None, 128)               0         \n",
      "                                                                 \n",
      " dense_1 (Dense)             (None, 10)                1290      \n",
      "                                                                 \n",
      "=================================================================\n",
      "Total params: 693,962\n",
      "Trainable params: 693,962\n",
      "Non-trainable params: 0\n",
      "_________________________________________________________________\n"
     ]
    }
   ],
   "source": [
    "# model\n",
    "model = Sequential()\n",
    "\n",
    "# first conv layer\n",
    "model.add(Conv2D(32, kernel_size=(3, 3),\n",
    "                 activation='relu',\n",
    "                 input_shape=input_shape))\n",
    "\n",
    "model.add(MaxPooling2D(pool_size=(2, 2)))\n",
    "model.add(Dropout(0.25))\n",
    "\n",
    "# flattening and a fully connected layer\n",
    "model.add(Flatten())\n",
    "model.add(Dense(128, activation='relu')) # fully connected\n",
    "model.add(Dropout(0.5))\n",
    "\n",
    "# softmax layer\n",
    "model.add(Dense(num_classes, activation='softmax'))\n",
    "\n",
    "# model summary\n",
    "model.summary()"
   ]
  },
  {
   "cell_type": "markdown",
   "metadata": {},
   "source": [
    "- The above model summary tells us about the the total number of parameters are that are to be trained and also the output dimensions after each layer.\n",
    "- The none in the output shape represents the batch size."
   ]
  },
  {
   "cell_type": "markdown",
   "metadata": {},
   "source": [
    "### Fitting and evaluating the baseline model\n",
    "- We now proceed to compile the model. The loss function to be optimised is the cross entropy loss.\n",
    "- The optimizer which we will be using is the Stochastic Gradient Descent with a learning rate of 0.01 and a momentum of 0.9. he momentum would help in accelerating the gradient in the right direction.\n",
    "- The metric which we would use to evaluate is Accuracy."
   ]
  },
  {
   "cell_type": "code",
   "execution_count": 10,
   "metadata": {},
   "outputs": [],
   "source": [
    "model.compile(loss=keras.losses.categorical_crossentropy,\n",
    "              optimizer=keras.optimizers.SGD(learning_rate=0.01,momentum=0.9),\n",
    "              metrics=['accuracy'])"
   ]
  },
  {
   "cell_type": "markdown",
   "metadata": {},
   "source": [
    "- We proceed to fit the model using the x_train and y_train.\n",
    "- Although we can use Kfold cross validation to evaluate the performance of our model, we would only be using the 'validation_data' argument supported by Keras due to computational and time constraints.\n",
    "- The validation_data argument would return the performance metric of the model(in our case accuracy) on each training epoch iteratively on batches of data (batches sized 128)."
   ]
  },
  {
   "cell_type": "code",
   "execution_count": 11,
   "metadata": {},
   "outputs": [
    {
     "name": "stdout",
     "output_type": "stream",
     "text": [
      "Epoch 1/12\n",
      "469/469 [==============================] - 13s 26ms/step - loss: 0.5559 - accuracy: 0.8243 - val_loss: 0.2014 - val_accuracy: 0.9415\n",
      "Epoch 2/12\n",
      "469/469 [==============================] - 12s 25ms/step - loss: 0.2877 - accuracy: 0.9127 - val_loss: 0.1495 - val_accuracy: 0.9541\n",
      "Epoch 3/12\n",
      "469/469 [==============================] - 12s 25ms/step - loss: 0.2276 - accuracy: 0.9314 - val_loss: 0.1129 - val_accuracy: 0.9650\n",
      "Epoch 4/12\n",
      "469/469 [==============================] - 12s 26ms/step - loss: 0.1890 - accuracy: 0.9437 - val_loss: 0.0931 - val_accuracy: 0.9708\n",
      "Epoch 5/12\n",
      "469/469 [==============================] - 12s 26ms/step - loss: 0.1580 - accuracy: 0.9526 - val_loss: 0.0783 - val_accuracy: 0.9738\n",
      "Epoch 6/12\n",
      "469/469 [==============================] - 12s 25ms/step - loss: 0.1387 - accuracy: 0.9587 - val_loss: 0.0749 - val_accuracy: 0.9774\n",
      "Epoch 7/12\n",
      "469/469 [==============================] - 12s 25ms/step - loss: 0.1217 - accuracy: 0.9642 - val_loss: 0.0615 - val_accuracy: 0.9797\n",
      "Epoch 8/12\n",
      "469/469 [==============================] - 12s 25ms/step - loss: 0.1102 - accuracy: 0.9675 - val_loss: 0.0564 - val_accuracy: 0.9816\n",
      "Epoch 9/12\n",
      "469/469 [==============================] - 12s 26ms/step - loss: 0.1034 - accuracy: 0.9686 - val_loss: 0.0550 - val_accuracy: 0.9836\n",
      "Epoch 10/12\n",
      "469/469 [==============================] - 12s 25ms/step - loss: 0.0933 - accuracy: 0.9722 - val_loss: 0.0498 - val_accuracy: 0.9833\n",
      "Epoch 11/12\n",
      "469/469 [==============================] - 12s 26ms/step - loss: 0.0878 - accuracy: 0.9742 - val_loss: 0.0479 - val_accuracy: 0.9842\n",
      "Epoch 12/12\n",
      "469/469 [==============================] - 12s 26ms/step - loss: 0.0828 - accuracy: 0.9745 - val_loss: 0.0481 - val_accuracy: 0.9842\n"
     ]
    },
    {
     "data": {
      "text/plain": [
       "<keras.callbacks.History at 0x24dc625e388>"
      ]
     },
     "execution_count": 11,
     "metadata": {},
     "output_type": "execute_result"
    }
   ],
   "source": [
    " model.fit(x_train, y_train,\n",
    "          batch_size=batch_size,\n",
    "          epochs=epochs,\n",
    "          verbose=1,\n",
    "          validation_data=(x_test, y_test))"
   ]
  },
  {
   "cell_type": "markdown",
   "metadata": {},
   "source": [
    "- We can see that the baseline model returns good train and validation accuracies."
   ]
  },
  {
   "cell_type": "markdown",
   "metadata": {},
   "source": [
    "###### We now evaluate the baseline model on test data"
   ]
  },
  {
   "cell_type": "code",
   "execution_count": 12,
   "metadata": {},
   "outputs": [
    {
     "name": "stdout",
     "output_type": "stream",
     "text": [
      "313/313 [==============================] - 1s 3ms/step - loss: 0.0481 - accuracy: 0.9842\n"
     ]
    },
    {
     "data": {
      "text/plain": [
       "[0.04805685207247734, 0.9842000007629395]"
      ]
     },
     "execution_count": 12,
     "metadata": {},
     "output_type": "execute_result"
    }
   ],
   "source": [
    "model.evaluate(x_test, y_test)"
   ]
  },
  {
   "cell_type": "markdown",
   "metadata": {},
   "source": [
    "- The final loss (on test data) is about 0.04 and the accuracy is 98%."
   ]
  },
  {
   "cell_type": "markdown",
   "metadata": {},
   "source": [
    "## Developing a Improved Model\n",
    "We now go ahead and build an improved model to predict handwritten images with even higher accuracy.\n",
    "<br>\n",
    "We introduce another Convolution Layer and Batch Normalization in the improved model. The Batch Normalization standardizes the inputs to the network and accelerates training.<br><br>\n",
    "In addition to the layers of the Baseline model, the improved model will consist of:\n",
    "- One Batch normalization layer after the first convolution layer\n",
    "- A second Convolution layer with 64 filters with a filter size of (3,3)\n",
    "- Batch normalization layer after the second convolution layer\n",
    "- Batch normalization layer after a fully connected dense layer with 128 neurons\n",
    "\n",
    "Note that we would not be using the dropout layer since we would be using the Batch Normalisation which provides the regularization effect. Including both can induce noise.<br>\n",
    "All the layers other than the last layer will be using the ReLU activation function."
   ]
  },
  {
   "cell_type": "code",
   "execution_count": 13,
   "metadata": {},
   "outputs": [
    {
     "name": "stdout",
     "output_type": "stream",
     "text": [
      "Model: \"sequential_1\"\n",
      "_________________________________________________________________\n",
      " Layer (type)                Output Shape              Param #   \n",
      "=================================================================\n",
      " conv2d_1 (Conv2D)           (None, 26, 26, 32)        320       \n",
      "                                                                 \n",
      " batch_normalization (BatchN  (None, 26, 26, 32)       128       \n",
      " ormalization)                                                   \n",
      "                                                                 \n",
      " conv2d_2 (Conv2D)           (None, 24, 24, 64)        18496     \n",
      "                                                                 \n",
      " batch_normalization_1 (Batc  (None, 24, 24, 64)       256       \n",
      " hNormalization)                                                 \n",
      "                                                                 \n",
      " max_pooling2d_1 (MaxPooling  (None, 12, 12, 64)       0         \n",
      " 2D)                                                             \n",
      "                                                                 \n",
      " flatten_1 (Flatten)         (None, 9216)              0         \n",
      "                                                                 \n",
      " dense_2 (Dense)             (None, 128)               1179776   \n",
      "                                                                 \n",
      " batch_normalization_2 (Batc  (None, 128)              512       \n",
      " hNormalization)                                                 \n",
      "                                                                 \n",
      " dense_3 (Dense)             (None, 10)                1290      \n",
      "                                                                 \n",
      "=================================================================\n",
      "Total params: 1,200,778\n",
      "Trainable params: 1,200,330\n",
      "Non-trainable params: 448\n",
      "_________________________________________________________________\n"
     ]
    }
   ],
   "source": [
    "# model\n",
    "model = Sequential()\n",
    "\n",
    "# first conv layer\n",
    "model.add(Conv2D(32, kernel_size=(3, 3),\n",
    "                 activation='relu',\n",
    "                 input_shape=input_shape))\n",
    "model.add(BatchNormalization())\n",
    "\n",
    "# second conv layer\n",
    "model.add(Conv2D(64, kernel_size=(3, 3), \n",
    "                 activation='relu'))\n",
    "model.add(BatchNormalization())\n",
    "model.add(MaxPooling2D(pool_size=(2, 2)))\n",
    "#model.add(Dropout(0.25))\n",
    "\n",
    "# flatten and put a fully connected layer\n",
    "model.add(Flatten())\n",
    "model.add(Dense(128, activation='relu')) # fully connected\n",
    "#model.add(Dropout(0.5))\n",
    "model.add(BatchNormalization())\n",
    "# softmax layer\n",
    "model.add(Dense(num_classes, activation='softmax'))\n",
    "\n",
    "# model summary\n",
    "model.summary()\n"
   ]
  },
  {
   "cell_type": "markdown",
   "metadata": {},
   "source": [
    "- The above model summary tells us about the the total number of parameters are that are to be trained and also the output dimensions after each layer.\n",
    "- The none in the output shape represents the batch size."
   ]
  },
  {
   "cell_type": "markdown",
   "metadata": {},
   "source": [
    "### Fitting and evaluating the improved model\n",
    "- We now proceed to compile the model. The loss function to be optimised is the cross entropy loss.\n",
    "- The optimizer which wee will be using is the Stochastic Gradient Descent with a learning rate of 0.01 and a momentum of 0.9. he momentum wouldhelp in acceleratingthe gradient in the right direction.\n",
    "- The metric which we would use to evaluate is Accuracy."
   ]
  },
  {
   "cell_type": "code",
   "execution_count": 14,
   "metadata": {},
   "outputs": [],
   "source": [
    "model.compile(loss=keras.losses.categorical_crossentropy,\n",
    "              optimizer=keras.optimizers.SGD(learning_rate=0.01,momentum=0.9),\n",
    "              metrics=['accuracy'])"
   ]
  },
  {
   "cell_type": "markdown",
   "metadata": {},
   "source": [
    "- We proceed to fit the improved model using the x_train and y_train.\n",
    "- Although we can use Kfold cross validation to evaluate the performance of our model, we would only be using the 'validation_data' argument supported by Keras due to computational and time constraints.\n",
    "- The validation_data argument would return the performance metric of the model(in our case accuracy) on each training epoch."
   ]
  },
  {
   "cell_type": "code",
   "execution_count": 15,
   "metadata": {},
   "outputs": [
    {
     "name": "stdout",
     "output_type": "stream",
     "text": [
      "Epoch 1/12\n",
      "469/469 [==============================] - 56s 118ms/step - loss: 0.1071 - accuracy: 0.9689 - val_loss: 0.5225 - val_accuracy: 0.8387\n",
      "Epoch 2/12\n",
      "469/469 [==============================] - 55s 117ms/step - loss: 0.0350 - accuracy: 0.9903 - val_loss: 0.0379 - val_accuracy: 0.9886\n",
      "Epoch 3/12\n",
      "469/469 [==============================] - 55s 117ms/step - loss: 0.0206 - accuracy: 0.9951 - val_loss: 0.0369 - val_accuracy: 0.9890\n",
      "Epoch 4/12\n",
      "469/469 [==============================] - 55s 117ms/step - loss: 0.0125 - accuracy: 0.9975 - val_loss: 0.0336 - val_accuracy: 0.9889\n",
      "Epoch 5/12\n",
      "469/469 [==============================] - 55s 116ms/step - loss: 0.0080 - accuracy: 0.9986 - val_loss: 0.0294 - val_accuracy: 0.9899\n",
      "Epoch 6/12\n",
      "469/469 [==============================] - 55s 116ms/step - loss: 0.0053 - accuracy: 0.9994 - val_loss: 0.0276 - val_accuracy: 0.9911\n",
      "Epoch 7/12\n",
      "469/469 [==============================] - 56s 120ms/step - loss: 0.0036 - accuracy: 0.9998 - val_loss: 0.0267 - val_accuracy: 0.9912\n",
      "Epoch 8/12\n",
      "469/469 [==============================] - 55s 117ms/step - loss: 0.0024 - accuracy: 0.9999 - val_loss: 0.0259 - val_accuracy: 0.9912\n",
      "Epoch 9/12\n",
      "469/469 [==============================] - 57s 122ms/step - loss: 0.0017 - accuracy: 1.0000 - val_loss: 0.0254 - val_accuracy: 0.9913\n",
      "Epoch 10/12\n",
      "469/469 [==============================] - 63s 134ms/step - loss: 0.0014 - accuracy: 1.0000 - val_loss: 0.0251 - val_accuracy: 0.9918\n",
      "Epoch 11/12\n",
      "469/469 [==============================] - 62s 132ms/step - loss: 0.0012 - accuracy: 1.0000 - val_loss: 0.0257 - val_accuracy: 0.9913\n",
      "Epoch 12/12\n",
      "469/469 [==============================] - 58s 123ms/step - loss: 9.9155e-04 - accuracy: 1.0000 - val_loss: 0.0250 - val_accuracy: 0.9919\n"
     ]
    },
    {
     "data": {
      "text/plain": [
       "<keras.callbacks.History at 0x24dd45c94c8>"
      ]
     },
     "execution_count": 15,
     "metadata": {},
     "output_type": "execute_result"
    }
   ],
   "source": [
    "model.fit(x_train, y_train,\n",
    "          batch_size=batch_size,\n",
    "          epochs=epochs,\n",
    "          verbose=1,\n",
    "          validation_data=(x_test, y_test))"
   ]
  },
  {
   "cell_type": "markdown",
   "metadata": {},
   "source": [
    "- We can see that the model does exceptionally well on the train data with an accuracy of 100%. The validation accuracy is 99% as well."
   ]
  },
  {
   "cell_type": "markdown",
   "metadata": {},
   "source": [
    "###### We now evaluate the improved model on test data"
   ]
  },
  {
   "cell_type": "code",
   "execution_count": 16,
   "metadata": {
    "scrolled": true
   },
   "outputs": [
    {
     "name": "stdout",
     "output_type": "stream",
     "text": [
      "313/313 [==============================] - 3s 9ms/step - loss: 0.0250 - accuracy: 0.9919\n"
     ]
    },
    {
     "data": {
      "text/plain": [
       "[0.0249941349029541, 0.9919000267982483]"
      ]
     },
     "execution_count": 16,
     "metadata": {},
     "output_type": "execute_result"
    }
   ],
   "source": [
    "model.evaluate(x_test, y_test)"
   ]
  },
  {
   "cell_type": "markdown",
   "metadata": {},
   "source": [
    "- The final loss (on test data) is about 0.02 and the accuracy is greater than 99%."
   ]
  },
  {
   "cell_type": "markdown",
   "metadata": {},
   "source": [
    "## Saving the Finalized Model and making Predictions\n",
    "- We now save our model to an H5 file in our local directory"
   ]
  },
  {
   "cell_type": "code",
   "execution_count": 17,
   "metadata": {},
   "outputs": [],
   "source": [
    "model.save('final.h5')"
   ]
  },
  {
   "cell_type": "markdown",
   "metadata": {},
   "source": [
    "### Loading the Saved Model and Evaluation\n",
    "- To make predictions we load the saved model using load_model"
   ]
  },
  {
   "cell_type": "code",
   "execution_count": 18,
   "metadata": {},
   "outputs": [],
   "source": [
    "loaded_model = load_model('final.h5')"
   ]
  },
  {
   "cell_type": "markdown",
   "metadata": {},
   "source": [
    "- We now test the model on the complete MNIST data instead of dividing it into test and train sets to get an idea of how the model performs.\n",
    "- We will need to concatenate the test and train datasets since load_data give 4 outputs"
   ]
  },
  {
   "cell_type": "code",
   "execution_count": 19,
   "metadata": {},
   "outputs": [],
   "source": [
    "(x_train, y_train), (x_test, y_test) = mnist.load_data()\n",
    "x = np.concatenate((x_train, x_test))\n",
    "y = np.concatenate((y_train, y_test))"
   ]
  },
  {
   "cell_type": "markdown",
   "metadata": {},
   "source": [
    "- We check for the shape of the x and y data for our verification."
   ]
  },
  {
   "cell_type": "code",
   "execution_count": 20,
   "metadata": {
    "scrolled": true
   },
   "outputs": [
    {
     "name": "stdout",
     "output_type": "stream",
     "text": [
      "\n",
      " test data\n",
      "(70000, 28, 28)\n",
      "(70000,)\n"
     ]
    }
   ],
   "source": [
    "print(\"\\n test data\")\n",
    "print(x.shape)\n",
    "print(y.shape)"
   ]
  },
  {
   "cell_type": "markdown",
   "metadata": {},
   "source": [
    "- We re-define variables such as image size(rows and columns) and also the batch size, number of classes to be classified and the epochs"
   ]
  },
  {
   "cell_type": "code",
   "execution_count": 21,
   "metadata": {},
   "outputs": [],
   "source": [
    "# specify input dimensions of each image\n",
    "img_rows, img_cols = 28, 28\n",
    "input_shape = (img_rows, img_cols, 1)\n",
    "\n",
    "# batch size, number of classes, epochs\n",
    "batch_size = 128\n",
    "num_classes = 10\n",
    "epochs = 12"
   ]
  },
  {
   "cell_type": "markdown",
   "metadata": {},
   "source": [
    "- We now proceed to prepare the data for feeding the network.\n",
    "- The three main steps involved in this preperation are: <br>\n",
    "<tab>1. Reshaping the Data<br>\n",
    "<tab>2. Rescaling the Data<br>\n",
    "<tab>3. Converting the Input Data from int to float"
   ]
  },
  {
   "cell_type": "code",
   "execution_count": 22,
   "metadata": {},
   "outputs": [
    {
     "name": "stdout",
     "output_type": "stream",
     "text": [
      "(70000, 28, 28, 1)\n",
      "(70000, 10)\n"
     ]
    }
   ],
   "source": [
    "# reshape x and y\n",
    "x = x.reshape(x.shape[0], img_rows, img_cols, 1)\n",
    "y = keras.utils.to_categorical(y, num_classes)\n",
    "print(x.shape)\n",
    "print(y.shape)"
   ]
  },
  {
   "cell_type": "code",
   "execution_count": 23,
   "metadata": {},
   "outputs": [],
   "source": [
    "# convert int to float\n",
    "x = x.astype('float32')\n",
    "\n",
    "# normalise\n",
    "x /= 255"
   ]
  },
  {
   "cell_type": "markdown",
   "metadata": {},
   "source": [
    "###### We now evaluate the loaded model on the complete"
   ]
  },
  {
   "cell_type": "code",
   "execution_count": 24,
   "metadata": {},
   "outputs": [
    {
     "name": "stdout",
     "output_type": "stream",
     "text": [
      "2188/2188 [==============================] - 20s 9ms/step - loss: 0.0041 - accuracy: 0.9988\n"
     ]
    },
    {
     "data": {
      "text/plain": [
       "[0.004085768014192581, 0.9988428354263306]"
      ]
     },
     "execution_count": 24,
     "metadata": {},
     "output_type": "execute_result"
    }
   ],
   "source": [
    "loaded_model.evaluate(x, y)"
   ]
  },
  {
   "cell_type": "markdown",
   "metadata": {},
   "source": [
    "- The final loss on the complete data is about 0.02 and the accuracy is near perfect i.e. greater than 99.5%."
   ]
  },
  {
   "cell_type": "markdown",
   "metadata": {},
   "source": [
    "### Making Predictions\n",
    "- We predict the labels for the correspodning images in the MNIST data set using our loaded model."
   ]
  },
  {
   "cell_type": "code",
   "execution_count": 25,
   "metadata": {},
   "outputs": [],
   "source": [
    "y_pred = loaded_model.predict(x)"
   ]
  },
  {
   "cell_type": "markdown",
   "metadata": {},
   "source": [
    "- We now proceed to take sample images from the MNIST data to visualise the binary images, and check for their predicted classes and compares them to what their actual classes are."
   ]
  },
  {
   "cell_type": "code",
   "execution_count": 26,
   "metadata": {},
   "outputs": [
    {
     "data": {
      "image/png": "[encoded data removed]",
      "text/plain": [
       "<Figure size 864x1008 with 16 Axes>"
      ]
     },
     "metadata": {
      "needs_background": "light"
     },
     "output_type": "display_data"
    }
   ],
   "source": [
    "x_r = x.reshape(x.shape[0], 28, 28)\n",
    "fig, axis = plt.subplots(4, 4, figsize=(12, 14))\n",
    "for i, ax in enumerate(axis.flat):\n",
    "    ax.imshow(x_r[i], cmap='binary')\n",
    "    ax.set(title = f\"Acctual Number is {y[i].argmax()}\\nPredicted Number is {y_pred[i].argmax()}\");"
   ]
  },
  {
   "cell_type": "markdown",
   "metadata": {},
   "source": [
    "- We can clearly see that all the numbers have been correctly classified by our model both from a visual perspective and also from the perspective of the actual values in y."
   ]
  },
  {
   "cell_type": "markdown",
   "metadata": {},
   "source": [
    "###### The end"
   ]
  }
 ],
 "metadata": {
  "kernelspec": {
   "display_name": "Python 3",
   "language": "python",
   "name": "python3"
  },
  "language_info": {
   "codemirror_mode": {
    "name": "ipython",
    "version": 3
   },
   "file_extension": ".py",
   "mimetype": "text/x-python",
   "name": "python",
   "nbconvert_exporter": "python",
   "pygments_lexer": "ipython3",
   "version": "3.7.9"
  }
 },
 "nbformat": 4,
 "nbformat_minor": 4
}
